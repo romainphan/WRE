{
 "cells": [
  {
   "cell_type": "code",
   "execution_count": 1,
   "metadata": {},
   "outputs": [],
   "source": [
    "sw=0.25   # wilting point [-]\n",
    "sl=0.4    # [-]\n",
    "n=0.3     # [-]\n",
    "Qb=7      # m3/s\n",
    "tsup=22   # [h]\n",
    "A=4000    # [km²]\n",
    "phi=38    # [degrees]\n",
    "\n",
    "# mean monthly temperature [C]\n",
    "# temperature= pd.read_csv(\"temperature.txt\")\n",
    "# temperature.columns=[\"Tm\"]\n",
    "# hourly precipitation intensity [mm/h] for the period 01/01/2000 to 31/12/2005\n",
    "# precipitation=pd.read_csv(\"P.txt\")\n",
    "# precipitation.columns=[\"P\"]"
   ]
  },
  {
   "cell_type": "markdown",
   "metadata": {},
   "source": [
    "### Free parameters"
   ]
  },
  {
   "cell_type": "code",
   "execution_count": null,
   "metadata": {},
   "outputs": [],
   "source": [
    "K_sat = 1e-6  # [m/s]\n",
    "c = 10   # [-]\n",
    "t_sub = 200   # [h]\n",
    "z = 1000    # [mm]"
   ]
  },
  {
   "cell_type": "markdown",
   "metadata": {},
   "source": [
    "# Routing"
   ]
  },
  {
   "cell_type": "code",
   "execution_count": null,
   "metadata": {},
   "outputs": [],
   "source": []
  },
  {
   "cell_type": "code",
   "execution_count": null,
   "metadata": {},
   "outputs": [],
   "source": []
  }
 ],
 "metadata": {
  "kernelspec": {
   "display_name": "Python 3",
   "language": "python",
   "name": "python3"
  },
  "language_info": {
   "codemirror_mode": {
    "name": "ipython",
    "version": 3
   },
   "file_extension": ".py",
   "mimetype": "text/x-python",
   "name": "python",
   "nbconvert_exporter": "python",
   "pygments_lexer": "ipython3",
   "version": "3.8.5"
  }
 },
 "nbformat": 4,
 "nbformat_minor": 4
}
