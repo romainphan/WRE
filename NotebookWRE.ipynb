{
 "cells": [
  {
   "cell_type": "markdown",
   "metadata": {},
   "source": [
    "# WRE Project !"
   ]
  },
  {
   "cell_type": "markdown",
   "metadata": {},
   "source": [
    "## Initialization"
   ]
  },
  {
   "cell_type": "code",
   "execution_count": 1,
   "metadata": {},
   "outputs": [],
   "source": [
    "# IMPORT MODULES\n",
    "import os\n",
    "import pandas as pd\n",
    "import numpy as np\n",
    "import matplotlib.pyplot as plt\n",
    "#os.chdir(\"C:/Users/marie/Documents/WREProj\")\n",
    "\n",
    "# PARAMETERS\n",
    "sw=0.25    # [-] Wilting point\n",
    "s1=0.4     # [-] soil moisture above which plants transpire at kc*ET0\n",
    "n=0.3      # [-] Porosity\n",
    "Qb=7       # [m3/s]\n",
    "tsup=22    # [h] superficial residence time\n",
    "A=4000     # [km²] area of the basin\n",
    "phi=38\n",
    "\n",
    "ksat=10e-7  #UNITEEEEEEEEEEEESSSSS\n",
    "c=10\n",
    "#tsub=\n",
    "z=1000"
   ]
  },
  {
   "cell_type": "markdown",
   "metadata": {},
   "source": [
    "### Attention aux unités\n",
    "1mm/h = 10e-3 m3/h \\\n",
    "ICI, on va tout mettre en m3/heure"
   ]
  },
  {
   "cell_type": "code",
   "execution_count": 27,
   "metadata": {},
   "outputs": [],
   "source": [
    "#% mean monthly temperature [C]\n",
    "temperature= pd.read_csv(\"temperature.txt\")\n",
    "Tm=temperature.T.to_numpy()[0]\n",
    "#%hourly precipitation intensity [mm/h] for the period 01/01/2000 to 31/12/2005\n",
    "precipitation=pd.read_csv(\"P.txt\").T.to_numpy()[0]*10e-3\n",
    "\n",
    "#% Changes in monthly temperature [degrees C]\n",
    "temperature_change= pd.read_csv(\"temperature_change.txt\")\n",
    "Tc=temperature_change.T.to_numpy()[0]\n",
    "\n",
    "#%monthly mean crop coefficient [-] (average among all the crops and soil uses of the basin\n",
    "cropcoeff=pd.read_csv(\"kc.txt\")\n",
    "Kc=cropcoeff.T.to_numpy()[0]\n",
    "\n",
    "#%instantaneous discharge at hourly time step [m3/s] for the period 01/01/2000 to 31/12/2004\n",
    "discharge=pd.read_csv(\"Q_obs.txt\").T.to_numpy()[0]*60\n"
   ]
  },
  {
   "cell_type": "code",
   "execution_count": 10,
   "metadata": {},
   "outputs": [],
   "source": [
    "day_month=[31, 28, 31, 30, 31, 30, 31, 31, 30, 31, 30, 31]; #\"day_month\": number of days for each month\n",
    "month_end=np.cumsum(day_month)-1                    #\"month_end\": last day of each month\n",
    "month_start=month_end-day_month+1\n",
    "\n",
    "def month(t):\n",
    "    j= (t//24)%365 # jour de l'année\n",
    "    if j> month_start[11]:\n",
    "        return 11\n",
    "    else:\n",
    "        m=0\n",
    "        while j > month_start[m]-1:\n",
    "            m=m+1\n",
    "        return m\n",
    "    \n",
    "    \n",
    "    \n",
    "    # return the month corresponding to t\n",
    "    "
   ]
  },
  {
   "cell_type": "markdown",
   "metadata": {},
   "source": [
    "## Soil Properties"
   ]
  },
  {
   "cell_type": "code",
   "execution_count": 11,
   "metadata": {},
   "outputs": [],
   "source": [
    "def K(s):\n",
    "    return ksat*s**c\n"
   ]
  },
  {
   "cell_type": "code",
   "execution_count": 12,
   "metadata": {},
   "outputs": [],
   "source": [
    "def L(s,t):\n",
    "    return ksat*s**c"
   ]
  },
  {
   "cell_type": "markdown",
   "metadata": {},
   "source": [
    "## Precipitation/ Infilatration / Runoff"
   ]
  },
  {
   "cell_type": "code",
   "execution_count": null,
   "metadata": {},
   "outputs": [],
   "source": []
  },
  {
   "cell_type": "code",
   "execution_count": 13,
   "metadata": {},
   "outputs": [],
   "source": [
    "def P(t):\n",
    "    # voir si besoin de trouver l'heure, int\n",
    "    return precipitation[int(t)]"
   ]
  },
  {
   "cell_type": "code",
   "execution_count": 14,
   "metadata": {},
   "outputs": [],
   "source": [
    "def I(t):\n",
    "    return min(P(int(t)),ksat/3.6) # unite a verifier !!!!!!!!!!!!!!!!!!\n"
   ]
  },
  {
   "cell_type": "code",
   "execution_count": 15,
   "metadata": {},
   "outputs": [],
   "source": [
    "def R(t):\n",
    "    return P(int(t))-I(int(t))"
   ]
  },
  {
   "cell_type": "code",
   "execution_count": 16,
   "metadata": {},
   "outputs": [],
   "source": [
    "def Q(t):\n",
    "    return discharge[int(t)]"
   ]
  },
  {
   "cell_type": "code",
   "execution_count": 17,
   "metadata": {},
   "outputs": [
    {
     "data": {
      "text/plain": [
       "3"
      ]
     },
     "execution_count": 17,
     "metadata": {},
     "output_type": "execute_result"
    }
   ],
   "source": [
    "int(3.6)"
   ]
  },
  {
   "cell_type": "markdown",
   "metadata": {},
   "source": [
    "## Evapotranspiration"
   ]
  },
  {
   "cell_type": "code",
   "execution_count": 18,
   "metadata": {},
   "outputs": [],
   "source": [
    "#Thornthwaite equation\n",
    "lat=38   #latitude of the site (degree)\n",
    "D=[k for k in range(1,366)]  #day of the years    \n",
    "delta=[0.409*np.sin(2*np.pi*d/365-1.39)for d in D]\n",
    "omega_s=[np.arccos(-np.tan(lat*np.pi/180)*np.tan(i)) for i in delta]\n",
    "N_D=[24*o/np.pi for o in omega_s]\n",
    "\n",
    "\n",
    "\n",
    "N_m=np.zeros(12)\n",
    "for m in range(0,12):\n",
    "    N_m[m]=np.mean(N_D[month_start[m]:month_end[m]])\n",
    "Ii=0\n",
    "for i in range (0,12):\n",
    "    Ii=Ii+(Tm[m]/5)**1.514\n",
    "    \n",
    "a=6.75e-7*Ii**3-7.71e-5*Ii**2+1.79e-2*Ii+0.49\n",
    "T_ET0=[16*N_m[i]/12*(10*Tm[i]/Ii)**a for i in range (0,12)] #mm par mois\n",
    "\n",
    "\n"
   ]
  },
  {
   "cell_type": "code",
   "execution_count": null,
   "metadata": {},
   "outputs": [],
   "source": []
  },
  {
   "cell_type": "code",
   "execution_count": 20,
   "metadata": {},
   "outputs": [],
   "source": [
    "def ET0(t):\n",
    "    return T_ET0[month(t)]/(day_month[month(t)]*24)\n"
   ]
  },
  {
   "cell_type": "code",
   "execution_count": null,
   "metadata": {},
   "outputs": [],
   "source": [
    "def ET(t,s):\n",
    "    if (s<sw):\n",
    "        return 0\n",
    "    elif (s>=sw and s<s1):\n",
    "        return ET0(t)*Kc[month(t)]/(s1-sw)*(s-sw)\n",
    "    else:\n",
    "        return ET0(t)*Kc[month(t)]"
   ]
  },
  {
   "cell_type": "code",
   "execution_count": null,
   "metadata": {},
   "outputs": [],
   "source": [
    "s=np.linspace(0,1,90)\n",
    "E=[ET(24*90,si) for si in s]\n",
    "plt.plot(s,E)\n",
    "plt.title (\"Evapotranspitation\")\n",
    "plt.xlabel(\"soil moisture\")\n",
    "plt.ylabel(\"ET(s)\")"
   ]
  },
  {
   "cell_type": "markdown",
   "metadata": {},
   "source": [
    "## Soil Moisture Dynamic in the root zone"
   ]
  },
  {
   "cell_type": "code",
   "execution_count": 1,
   "metadata": {},
   "outputs": [
    {
     "ename": "NameError",
     "evalue": "name 'precipitation' is not defined",
     "output_type": "error",
     "traceback": [
      "\u001b[1;31m---------------------------------------------------------------------------\u001b[0m",
      "\u001b[1;31mNameError\u001b[0m                                 Traceback (most recent call last)",
      "\u001b[1;32m<ipython-input-1-483b6d88134c>\u001b[0m in \u001b[0;36m<module>\u001b[1;34m\u001b[0m\n\u001b[1;32m----> 1\u001b[1;33m \u001b[0mN\u001b[0m\u001b[1;33m=\u001b[0m\u001b[0mlen\u001b[0m\u001b[1;33m(\u001b[0m\u001b[0mprecipitation\u001b[0m\u001b[1;33m)\u001b[0m\u001b[1;33m\u001b[0m\u001b[1;33m\u001b[0m\u001b[0m\n\u001b[0m\u001b[0;32m      2\u001b[0m \u001b[0ms\u001b[0m\u001b[1;33m=\u001b[0m\u001b[0mnp\u001b[0m\u001b[1;33m.\u001b[0m\u001b[0mzeros\u001b[0m\u001b[1;33m(\u001b[0m\u001b[0mN\u001b[0m\u001b[1;33m)\u001b[0m\u001b[1;33m\u001b[0m\u001b[1;33m\u001b[0m\u001b[0m\n\u001b[0;32m      3\u001b[0m \u001b[0mIn\u001b[0m\u001b[1;33m=\u001b[0m\u001b[1;33m[\u001b[0m\u001b[0mI\u001b[0m\u001b[1;33m(\u001b[0m\u001b[0mt\u001b[0m\u001b[1;33m)\u001b[0m \u001b[1;32mfor\u001b[0m \u001b[0mt\u001b[0m \u001b[1;32min\u001b[0m \u001b[0mrange\u001b[0m \u001b[1;33m(\u001b[0m\u001b[1;36m0\u001b[0m\u001b[1;33m,\u001b[0m\u001b[0mN\u001b[0m\u001b[1;33m)\u001b[0m\u001b[1;33m]\u001b[0m\u001b[1;33m\u001b[0m\u001b[1;33m\u001b[0m\u001b[0m\n\u001b[0;32m      4\u001b[0m \u001b[0mEvapT\u001b[0m\u001b[1;33m=\u001b[0m\u001b[0mnp\u001b[0m\u001b[1;33m.\u001b[0m\u001b[0mzeros\u001b[0m\u001b[1;33m(\u001b[0m\u001b[0mN\u001b[0m\u001b[1;33m)\u001b[0m\u001b[1;33m\u001b[0m\u001b[1;33m\u001b[0m\u001b[0m\n\u001b[0;32m      5\u001b[0m \u001b[0mLeaching\u001b[0m\u001b[1;33m=\u001b[0m\u001b[0mnp\u001b[0m\u001b[1;33m.\u001b[0m\u001b[0mzeros\u001b[0m\u001b[1;33m(\u001b[0m\u001b[0mN\u001b[0m\u001b[1;33m)\u001b[0m\u001b[1;33m\u001b[0m\u001b[1;33m\u001b[0m\u001b[0m\n",
      "\u001b[1;31mNameError\u001b[0m: name 'precipitation' is not defined"
     ]
    }
   ],
   "source": [
    "N=len(precipitation)\n",
    "s=np.zeros(N)\n",
    "In=[I(t) for t in range (0,N)]\n",
    "EvapT=np.zeros(N)\n",
    "Leaching=np.zeros(N)\n",
    "\n",
    "dt=1 # heure\n",
    "\n",
    "s[0]=0 # a revoir la condition initiale peut changer\n",
    "EvapT[0]=ET(0,s[0])\n",
    "Leaching[0]= L(0,s[0])\n",
    "\n",
    "for t in range (1,N):\n",
    "    s[t]=s[t-1]+dt*(In[t-1]-EvapT[t-1]-Leaching[t-1])/(n*z)\n",
    "    EvapT[t]=ET(t,S[t])\n",
    "    Leaching[t]=L(t,s[t])\n",
    "    "
   ]
  },
  {
   "cell_type": "markdown",
   "metadata": {},
   "source": [
    "## Routing"
   ]
  },
  {
   "cell_type": "code",
   "execution_count": null,
   "metadata": {},
   "outputs": [],
   "source": [
    "# Qsup"
   ]
  },
  {
   "cell_type": "code",
   "execution_count": null,
   "metadata": {},
   "outputs": [],
   "source": [
    "# Qsub"
   ]
  },
  {
   "cell_type": "code",
   "execution_count": null,
   "metadata": {},
   "outputs": [],
   "source": [
    "I(3)"
   ]
  },
  {
   "cell_type": "code",
   "execution_count": null,
   "metadata": {},
   "outputs": [],
   "source": []
  },
  {
   "cell_type": "code",
   "execution_count": null,
   "metadata": {},
   "outputs": [],
   "source": []
  }
 ],
 "metadata": {
  "kernelspec": {
   "display_name": "Python 3",
   "language": "python",
   "name": "python3"
  },
  "language_info": {
   "codemirror_mode": {
    "name": "ipython",
    "version": 3
   },
   "file_extension": ".py",
   "mimetype": "text/x-python",
   "name": "python",
   "nbconvert_exporter": "python",
   "pygments_lexer": "ipython3",
   "version": "3.8.3"
  }
 },
 "nbformat": 4,
 "nbformat_minor": 4
}
