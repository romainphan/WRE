{
 "cells": [
  {
   "cell_type": "markdown",
   "metadata": {},
   "source": [
    "# WRE Project"
   ]
  },
  {
   "cell_type": "markdown",
   "metadata": {},
   "source": [
    "## 1/ Variables and functions initialization"
   ]
  },
  {
   "cell_type": "markdown",
   "metadata": {},
   "source": [
    "### 1.1 Variables initialization"
   ]
  },
  {
   "cell_type": "code",
   "execution_count": 1,
   "metadata": {},
   "outputs": [],
   "source": [
    "# IMPORT MODULES\n",
    "import os\n",
    "import pandas as pd\n",
    "import numpy as np\n",
    "import matplotlib.pyplot as plt\n",
    "#os.chdir(\"C:/Users/marie/Documents/WREProj\")\n",
    "\n",
    "# PARAMETERS\n",
    "s_w=0.25    # [-] Wilting point\n",
    "s_1=0.4     # [-] soil moisture above which plants transpire at kc*ET0\n",
    "n=0.3      # [-] Porosity\n",
    "Q_b=7       # [m3/s] Base flow\n",
    "t_sup=22    # [h] superficial residence time\n",
    "A=4000*1e6     # [m²] area of the basin\n",
    "phi=38     # [degrees] latitude of the basin\n",
    "\n",
    "\n",
    "# these are the 'free parameters' : they will be determined during next week (session 2 of the project)\n",
    "# here is a proposed average value that is the right order of magnitude\n",
    "\n",
    "K_sat=1e-6           # [m/s] Saturated hydraulic conductivity\n",
    "K_sat_h = K_sat*3600  # [m/h] Saturated hydraulic conductivity\n",
    "c=10                # [-] exponent of ksat for the equation k = ksat * s^c\n",
    "t_sub=200            # [h] mean sub-superficial residence time\n",
    "z=1000              # [m] root zone thickness\n",
    "\n",
    "day_month=[31, 28, 31, 30, 31, 30, 31, 31, 30, 31, 30, 31] #\"day_month\": number of days for each month\n",
    "month_end=np.cumsum(day_month)-1                    #\"month_end\": last day of each month\n",
    "month_start=month_end-day_month+1"
   ]
  },
  {
   "cell_type": "markdown",
   "metadata": {},
   "source": [
    "### 1.2 Auxiliary functions definition"
   ]
  },
  {
   "cell_type": "code",
   "execution_count": 2,
   "metadata": {},
   "outputs": [],
   "source": [
    "def month(t):\n",
    "    \"\"\"\n",
    "    Inputs :\n",
    "        - t a time in hours, given from January 1st as a reference \n",
    "    \n",
    "    Ouptuts :\n",
    "        - the number of the month the given hour is in.\n",
    "        Month 0 corresponds to January, and month 11 is December.\n",
    "    \n",
    "    month(t) calculates the month in which the given hour is in, regardless if the year.\n",
    "    The hour 0 must ALWAYS correspond to a January 1st in some year.\n",
    "    \"\"\"\n",
    "    \n",
    "    j= (t//24)%365 # jour de l'année\n",
    "    if j >= month_start[11]:\n",
    "        return 11\n",
    "    else:\n",
    "        m=0\n",
    "        while j >= month_start[m]:\n",
    "            m=m+1\n",
    "        return m-1\n",
    "\n",
    "########################################\n",
    "\n",
    "def K(s):\n",
    "    \"\"\"\n",
    "    Input : \n",
    "        - s [-] the soil moisture, 0 <= s <= 1\n",
    "    Output : \n",
    "        - K [m/s] the unsaturated hydraulic conductivity\n",
    "        \n",
    "    This function follows the given law : K = K_sat * s**c\n",
    "    \"\"\"\n",
    "    return K_sat * s**c    \n",
    "\n",
    "########################################\n",
    "\n",
    "def L(s,t):\n",
    "    \"\"\"\n",
    "    Inputs :\n",
    "        - s [-] the soil porosity\n",
    "        - t [h] the hour at which the calculation is done\n",
    "    \n",
    "    Outputs :\n",
    "        - L [m/s] the leaching \n",
    "    \n",
    "    The function follows this law : L = K = K_sat * s**c\n",
    "    \"\"\"\n",
    "    return K_sat*s**c\n",
    "\n",
    "################################\n",
    "\n",
    "def P(t):\n",
    "    \"\"\"\n",
    "    Input : t [h] the hour at which the calculation is done\n",
    "    Output : P [m3/s] Total precipitation over the whole basin\n",
    "    \n",
    "    P(t) = p * Area\n",
    "    \n",
    "    /!\\ p is given in mm/h\n",
    "    \"\"\"\n",
    "    return precipitation[int(t)]*A*1e-3 / 3600\n",
    "\n",
    "################################\n",
    "\n",
    "def I(t):\n",
    "    \"\"\"\n",
    "    Input : t [h] the hour at which to do the calculation\n",
    "    Output : I [m3/s] the corresponding infiltration\n",
    "     \n",
    "    Follows the law : I = min(P, K_sat)\n",
    "    \"\"\"\n",
    "    return min(P(int(t)),K_sat) \n",
    "\n",
    "################################\n",
    "\n",
    "def R(t):\n",
    "    \"\"\"\n",
    "    Input : t [h] the hour at which to do the calculation\n",
    "    Output : R [m3/s] the runoff \n",
    "    \n",
    "    Follows the law : R = P - I\n",
    "    \"\"\"\n",
    "    return P(int(t))-I(int(t))\n",
    "\n",
    "######################################\n",
    "\n",
    "#def Q(t):\n",
    "#    \"\"\"\n",
    "#    Input : t [h] the hour at which to do the calculation\n",
    "#    Output : Q [m3/s] the discharge\n",
    "#    \n",
    "#    Follows the law : \n",
    "#    \"\"\"\n",
    "#    return (discharge[int(t)]*3600)\n"
   ]
  },
  {
   "cell_type": "markdown",
   "metadata": {},
   "source": [
    "### 1.3 File imports \n",
    "Attention aux unités !\n",
    "Tout est en unités du Systèle international, SAUF les **PRECIPITATIONS** qui sont en mm/h et l'**EVAPOTRANSPIRATION** qui est aussi en mm/h."
   ]
  },
  {
   "cell_type": "code",
   "execution_count": 3,
   "metadata": {},
   "outputs": [],
   "source": [
    "# mean monthly temperature [C]\n",
    "temperature= pd.read_csv(\"temperature.txt\")\n",
    "T_m=temperature.T.to_numpy()[0]\n",
    "\n",
    "# hourly precipitation intensity [mm/h] for the period 01/01/2000 to 31/12/2005\n",
    "precipitation=pd.read_csv(\"P.txt\").T.to_numpy()[0]\n",
    "\n",
    "# Changes in monthly temperature [degrees C]\n",
    "temperature_change= pd.read_csv(\"temperature_change.txt\")\n",
    "T_c=temperature_change.T.to_numpy()[0]\n",
    "\n",
    "# monthly mean crop coefficient [-] (average among all the crops and soil uses of the basin\n",
    "cropcoeff=pd.read_csv(\"kc.txt\")\n",
    "K_c=cropcoeff.T.to_numpy()[0]\n",
    "\n",
    "# instantaneous discharge at hourly time step [m3/s] for the period 01/01/2000 to 31/12/2004\n",
    "Q_obs=pd.read_csv(\"Q_obs.txt\").T.to_numpy()[0]\n"
   ]
  },
  {
   "cell_type": "markdown",
   "metadata": {},
   "source": [
    "## 2/ Soil Properties\n"
   ]
  },
  {
   "cell_type": "markdown",
   "metadata": {},
   "source": [
    "### Precipitation/ Infilatration / Runoff"
   ]
  },
  {
   "cell_type": "code",
   "execution_count": 4,
   "metadata": {},
   "outputs": [
    {
     "data": {
      "text/plain": [
       "[<matplotlib.lines.Line2D at 0x1fe5b6a1250>]"
      ]
     },
     "execution_count": 4,
     "metadata": {},
     "output_type": "execute_result"
    },
    {
     "data": {
      "image/png": "[encoded data removed]",
      "text/plain": [
       "<Figure size 432x288 with 1 Axes>"
      ]
     },
     "metadata": {
      "needs_background": "light"
     },
     "output_type": "display_data"
    }
   ],
   "source": [
    "time = [k for k in range(52560)]\n",
    "sum([P(t) for t in time])\n",
    "plt.plot(time,[Q_obs[t] for t in time])\n",
    "#plt.plot(time,[R(t) for t in time])\n"
   ]
  },
  {
   "cell_type": "markdown",
   "metadata": {},
   "source": [
    "## Evapotranspiration"
   ]
  },
  {
   "cell_type": "code",
   "execution_count": 5,
   "metadata": {},
   "outputs": [],
   "source": [
    "#Thornthwaite equation\n",
    "lat = phi                     #latitude of the site (degrees)\n",
    "D = [k for k in range(365)]   #day of the year   \n",
    "delta = [0.409*np.sin(2*np.pi*d/365-1.39)for d in D]          # [-]\n",
    "omega_s = [np.arccos(-np.tan(lat*np.pi/180)*np.tan(i)) for i in delta]   # [rad]\n",
    "N_D = [24*o/np.pi for o in omega_s]                   # [h] number of daylight hours of day d\n",
    "\n",
    "N_m = [np.mean(N_D[month_start[m]:month_end[m]]) for m in range(12)]    # [h]  mean daylight hours of month m\n",
    "Ii = np.sum([np.power(T_m[i]/5, 1.514) for i in range(12)])             # heat index [-]    \n",
    "a = 6.75e-7 * Ii**3 - 7.71e-5 * Ii**2 + 1.79e-2 * Ii + 0.49           # experimental exponent [-]\n",
    "\n",
    "# monthly average potential evapotranspiration :\n",
    "ET_0 = [16*N_m[i] / 12 * (10*T_m[i]/Ii)**a / (24*day_month[i]) for i in range(12)]  # [mm/h]\n",
    "                                "
   ]
  },
  {
   "cell_type": "code",
   "execution_count": 6,
   "metadata": {},
   "outputs": [],
   "source": [
    "def ET(t,s):\n",
    "    \"\"\"\n",
    "    Input : \n",
    "        - hour [h] at which the computation is done\n",
    "        - s [-] soil moisture at the given time\n",
    "    \n",
    "    Output : \n",
    "        - ET [mm/h] the evapotranspiration\n",
    "    \n",
    "    Works with the following model of evapotranspiration :\n",
    "        if s < s_w (wilting point), ET = 0\n",
    "        if s > s_1 (too much water), ET = ET_0 * K_c\n",
    "        else : linear interpolation between 0 and ET_0 * K_c\n",
    "    \"\"\"\n",
    "    m = month(t)\n",
    "    if s <= s_w:\n",
    "        return 0\n",
    "    elif (s > s_w and s < s_1):\n",
    "        return ET_0[m] * K_c[m] / (s_1-s_w) * (s-s_w)\n",
    "    else:\n",
    "        return ET_0[m] * K_c[m]"
   ]
  },
  {
   "cell_type": "code",
   "execution_count": 7,
   "metadata": {},
   "outputs": [
    {
     "data": {
      "text/plain": [
       "Text(0, 0.5, 'ET(s)')"
      ]
     },
     "execution_count": 7,
     "metadata": {},
     "output_type": "execute_result"
    },
    {
     "data": {
      "image/png": "[encoded data removed]",
      "text/plain": [
       "<Figure size 432x288 with 1 Axes>"
      ]
     },
     "metadata": {
      "needs_background": "light"
     },
     "output_type": "display_data"
    }
   ],
   "source": [
    "s=np.linspace(0,1,90)\n",
    "E=[ET(24*90,si) for si in s]\n",
    "plt.plot(s,E)\n",
    "plt.title (\"Evapotranspitation\")\n",
    "plt.xlabel(\"soil moisture\")\n",
    "plt.ylabel(\"ET(s)\")"
   ]
  },
  {
   "cell_type": "markdown",
   "metadata": {},
   "source": [
    "## Soil Moisture Dynamic in the root zone"
   ]
  },
  {
   "cell_type": "code",
   "execution_count": 8,
   "metadata": {},
   "outputs": [],
   "source": [
    "N=len(precipitation)\n",
    "s=np.zeros(N)\n",
    "In=[I(t) for t in range (0,N)]\n",
    "EvapT=np.zeros(N)\n",
    "Leaching=np.zeros(N)\n",
    "\n",
    "dt=1 # heure\n",
    "\n",
    "s[0]=0 # a revoir la condition initiale peut changer\n",
    "EvapT[0]=ET(0,s[0])\n",
    "Leaching[0]= L(0,s[0])\n",
    "\n",
    "for t in range (1,N):\n",
    "    s[t]=s[t-1]+dt*(In[t-1]-EvapT[t-1]-Leaching[t-1])/(n*z)\n",
    "    EvapT[t]=ET(t,s[t])\n",
    "    Leaching[t]=L(t,s[t])\n",
    "    "
   ]
  },
  {
   "cell_type": "markdown",
   "metadata": {},
   "source": [
    "## Routing"
   ]
  },
  {
   "cell_type": "code",
   "execution_count": 9,
   "metadata": {},
   "outputs": [],
   "source": [
    "# Qsup"
   ]
  },
  {
   "cell_type": "code",
   "execution_count": 10,
   "metadata": {},
   "outputs": [],
   "source": [
    "# Qsub"
   ]
  },
  {
   "cell_type": "code",
   "execution_count": null,
   "metadata": {},
   "outputs": [],
   "source": []
  },
  {
   "cell_type": "markdown",
   "metadata": {},
   "source": [
    "## ??/ Global Function"
   ]
  },
  {
   "cell_type": "code",
   "execution_count": null,
   "metadata": {},
   "outputs": [],
   "source": [
    "def truc(machin):\n",
    "    return 3"
   ]
  }
 ],
 "metadata": {
  "kernelspec": {
   "display_name": "Python 3",
   "language": "python",
   "name": "python3"
  },
  "language_info": {
   "codemirror_mode": {
    "name": "ipython",
    "version": 3
   },
   "file_extension": ".py",
   "mimetype": "text/x-python",
   "name": "python",
   "nbconvert_exporter": "python",
   "pygments_lexer": "ipython3",
   "version": "3.8.5"
  }
 },
 "nbformat": 4,
 "nbformat_minor": 4
}
